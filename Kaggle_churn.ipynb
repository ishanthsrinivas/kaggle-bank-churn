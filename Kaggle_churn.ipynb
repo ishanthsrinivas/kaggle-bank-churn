{
 "cells": [
  {
   "cell_type": "code",
   "execution_count": 1,
   "id": "90d104a7",
   "metadata": {},
   "outputs": [
    {
     "name": "stderr",
     "output_type": "stream",
     "text": [
      "/home/ishanth/anaconda3/lib/python3.11/site-packages/pandas/core/arrays/masked.py:60: UserWarning: Pandas requires version '1.3.6' or newer of 'bottleneck' (version '1.3.5' currently installed).\n",
      "  from pandas.core import (\n"
     ]
    }
   ],
   "source": [
    "import numpy as np\n",
    "import pandas as pd\n",
    "import matplotlib.pyplot as plt\n",
    "from matplotlib.pyplot import subplots\n",
    "import statsmodels.api as sm\n",
    "from ISLP import load_data\n",
    "from ISLP.models import (ModelSpec as MS ,\n",
    "summarize)\n",
    "\n",
    "import sklearn.linear_model as skl\n",
    "from sklearn.linear_model import LogisticRegression\n",
    "from sklearn.preprocessing import StandardScaler\n",
    "from sklearn.linear_model import Lasso\n",
    "from sklearn.model_selection import cross_val_score\n",
    "from sklearn.metrics import make_scorer, roc_auc_score, roc_curve\n",
    "\n",
    "import os"
   ]
  },
  {
   "cell_type": "code",
   "execution_count": 2,
   "id": "88f1d4b4",
   "metadata": {},
   "outputs": [],
   "source": [
    "os.chdir(\"/home/ishanth/kaggle_churn\")\n",
    "bankdata = pd.read_csv(\"train.csv\")"
   ]
  },
  {
   "cell_type": "code",
   "execution_count": 3,
   "id": "c6ddedb4-6150-41ad-9adf-295aeda538da",
   "metadata": {},
   "outputs": [
    {
     "data": {
      "text/html": [
       "<div>\n",
       "<style scoped>\n",
       "    .dataframe tbody tr th:only-of-type {\n",
       "        vertical-align: middle;\n",
       "    }\n",
       "\n",
       "    .dataframe tbody tr th {\n",
       "        vertical-align: top;\n",
       "    }\n",
       "\n",
       "    .dataframe thead th {\n",
       "        text-align: right;\n",
       "    }\n",
       "</style>\n",
       "<table border=\"1\" class=\"dataframe\">\n",
       "  <thead>\n",
       "    <tr style=\"text-align: right;\">\n",
       "      <th></th>\n",
       "      <th>id</th>\n",
       "      <th>CustomerId</th>\n",
       "      <th>Surname</th>\n",
       "      <th>CreditScore</th>\n",
       "      <th>Geography</th>\n",
       "      <th>Gender</th>\n",
       "      <th>Age</th>\n",
       "      <th>Tenure</th>\n",
       "      <th>Balance</th>\n",
       "      <th>NumOfProducts</th>\n",
       "      <th>HasCrCard</th>\n",
       "      <th>IsActiveMember</th>\n",
       "      <th>EstimatedSalary</th>\n",
       "      <th>Exited</th>\n",
       "    </tr>\n",
       "  </thead>\n",
       "  <tbody>\n",
       "    <tr>\n",
       "      <th>0</th>\n",
       "      <td>0</td>\n",
       "      <td>15674932</td>\n",
       "      <td>Okwudilichukwu</td>\n",
       "      <td>668</td>\n",
       "      <td>France</td>\n",
       "      <td>Male</td>\n",
       "      <td>33.0</td>\n",
       "      <td>3</td>\n",
       "      <td>0.00</td>\n",
       "      <td>2</td>\n",
       "      <td>1.0</td>\n",
       "      <td>0.0</td>\n",
       "      <td>181449.97</td>\n",
       "      <td>0</td>\n",
       "    </tr>\n",
       "    <tr>\n",
       "      <th>1</th>\n",
       "      <td>1</td>\n",
       "      <td>15749177</td>\n",
       "      <td>Okwudiliolisa</td>\n",
       "      <td>627</td>\n",
       "      <td>France</td>\n",
       "      <td>Male</td>\n",
       "      <td>33.0</td>\n",
       "      <td>1</td>\n",
       "      <td>0.00</td>\n",
       "      <td>2</td>\n",
       "      <td>1.0</td>\n",
       "      <td>1.0</td>\n",
       "      <td>49503.50</td>\n",
       "      <td>0</td>\n",
       "    </tr>\n",
       "    <tr>\n",
       "      <th>2</th>\n",
       "      <td>2</td>\n",
       "      <td>15694510</td>\n",
       "      <td>Hsueh</td>\n",
       "      <td>678</td>\n",
       "      <td>France</td>\n",
       "      <td>Male</td>\n",
       "      <td>40.0</td>\n",
       "      <td>10</td>\n",
       "      <td>0.00</td>\n",
       "      <td>2</td>\n",
       "      <td>1.0</td>\n",
       "      <td>0.0</td>\n",
       "      <td>184866.69</td>\n",
       "      <td>0</td>\n",
       "    </tr>\n",
       "    <tr>\n",
       "      <th>3</th>\n",
       "      <td>3</td>\n",
       "      <td>15741417</td>\n",
       "      <td>Kao</td>\n",
       "      <td>581</td>\n",
       "      <td>France</td>\n",
       "      <td>Male</td>\n",
       "      <td>34.0</td>\n",
       "      <td>2</td>\n",
       "      <td>148882.54</td>\n",
       "      <td>1</td>\n",
       "      <td>1.0</td>\n",
       "      <td>1.0</td>\n",
       "      <td>84560.88</td>\n",
       "      <td>0</td>\n",
       "    </tr>\n",
       "    <tr>\n",
       "      <th>4</th>\n",
       "      <td>4</td>\n",
       "      <td>15766172</td>\n",
       "      <td>Chiemenam</td>\n",
       "      <td>716</td>\n",
       "      <td>Spain</td>\n",
       "      <td>Male</td>\n",
       "      <td>33.0</td>\n",
       "      <td>5</td>\n",
       "      <td>0.00</td>\n",
       "      <td>2</td>\n",
       "      <td>1.0</td>\n",
       "      <td>1.0</td>\n",
       "      <td>15068.83</td>\n",
       "      <td>0</td>\n",
       "    </tr>\n",
       "    <tr>\n",
       "      <th>...</th>\n",
       "      <td>...</td>\n",
       "      <td>...</td>\n",
       "      <td>...</td>\n",
       "      <td>...</td>\n",
       "      <td>...</td>\n",
       "      <td>...</td>\n",
       "      <td>...</td>\n",
       "      <td>...</td>\n",
       "      <td>...</td>\n",
       "      <td>...</td>\n",
       "      <td>...</td>\n",
       "      <td>...</td>\n",
       "      <td>...</td>\n",
       "      <td>...</td>\n",
       "    </tr>\n",
       "    <tr>\n",
       "      <th>165029</th>\n",
       "      <td>165029</td>\n",
       "      <td>15667085</td>\n",
       "      <td>Meng</td>\n",
       "      <td>667</td>\n",
       "      <td>Spain</td>\n",
       "      <td>Female</td>\n",
       "      <td>33.0</td>\n",
       "      <td>2</td>\n",
       "      <td>0.00</td>\n",
       "      <td>1</td>\n",
       "      <td>1.0</td>\n",
       "      <td>1.0</td>\n",
       "      <td>131834.75</td>\n",
       "      <td>0</td>\n",
       "    </tr>\n",
       "    <tr>\n",
       "      <th>165030</th>\n",
       "      <td>165030</td>\n",
       "      <td>15665521</td>\n",
       "      <td>Okechukwu</td>\n",
       "      <td>792</td>\n",
       "      <td>France</td>\n",
       "      <td>Male</td>\n",
       "      <td>35.0</td>\n",
       "      <td>3</td>\n",
       "      <td>0.00</td>\n",
       "      <td>1</td>\n",
       "      <td>0.0</td>\n",
       "      <td>0.0</td>\n",
       "      <td>131834.45</td>\n",
       "      <td>0</td>\n",
       "    </tr>\n",
       "    <tr>\n",
       "      <th>165031</th>\n",
       "      <td>165031</td>\n",
       "      <td>15664752</td>\n",
       "      <td>Hsia</td>\n",
       "      <td>565</td>\n",
       "      <td>France</td>\n",
       "      <td>Male</td>\n",
       "      <td>31.0</td>\n",
       "      <td>5</td>\n",
       "      <td>0.00</td>\n",
       "      <td>1</td>\n",
       "      <td>1.0</td>\n",
       "      <td>1.0</td>\n",
       "      <td>127429.56</td>\n",
       "      <td>0</td>\n",
       "    </tr>\n",
       "    <tr>\n",
       "      <th>165032</th>\n",
       "      <td>165032</td>\n",
       "      <td>15689614</td>\n",
       "      <td>Hsiung</td>\n",
       "      <td>554</td>\n",
       "      <td>Spain</td>\n",
       "      <td>Female</td>\n",
       "      <td>30.0</td>\n",
       "      <td>7</td>\n",
       "      <td>161533.00</td>\n",
       "      <td>1</td>\n",
       "      <td>0.0</td>\n",
       "      <td>1.0</td>\n",
       "      <td>71173.03</td>\n",
       "      <td>0</td>\n",
       "    </tr>\n",
       "    <tr>\n",
       "      <th>165033</th>\n",
       "      <td>165033</td>\n",
       "      <td>15732798</td>\n",
       "      <td>Ulyanov</td>\n",
       "      <td>850</td>\n",
       "      <td>France</td>\n",
       "      <td>Male</td>\n",
       "      <td>31.0</td>\n",
       "      <td>1</td>\n",
       "      <td>0.00</td>\n",
       "      <td>1</td>\n",
       "      <td>1.0</td>\n",
       "      <td>0.0</td>\n",
       "      <td>61581.79</td>\n",
       "      <td>1</td>\n",
       "    </tr>\n",
       "  </tbody>\n",
       "</table>\n",
       "<p>165034 rows × 14 columns</p>\n",
       "</div>"
      ],
      "text/plain": [
       "            id  CustomerId         Surname  CreditScore Geography  Gender  \\\n",
       "0            0    15674932  Okwudilichukwu          668    France    Male   \n",
       "1            1    15749177   Okwudiliolisa          627    France    Male   \n",
       "2            2    15694510           Hsueh          678    France    Male   \n",
       "3            3    15741417             Kao          581    France    Male   \n",
       "4            4    15766172       Chiemenam          716     Spain    Male   \n",
       "...        ...         ...             ...          ...       ...     ...   \n",
       "165029  165029    15667085            Meng          667     Spain  Female   \n",
       "165030  165030    15665521       Okechukwu          792    France    Male   \n",
       "165031  165031    15664752            Hsia          565    France    Male   \n",
       "165032  165032    15689614          Hsiung          554     Spain  Female   \n",
       "165033  165033    15732798         Ulyanov          850    France    Male   \n",
       "\n",
       "         Age  Tenure    Balance  NumOfProducts  HasCrCard  IsActiveMember  \\\n",
       "0       33.0       3       0.00              2        1.0             0.0   \n",
       "1       33.0       1       0.00              2        1.0             1.0   \n",
       "2       40.0      10       0.00              2        1.0             0.0   \n",
       "3       34.0       2  148882.54              1        1.0             1.0   \n",
       "4       33.0       5       0.00              2        1.0             1.0   \n",
       "...      ...     ...        ...            ...        ...             ...   \n",
       "165029  33.0       2       0.00              1        1.0             1.0   \n",
       "165030  35.0       3       0.00              1        0.0             0.0   \n",
       "165031  31.0       5       0.00              1        1.0             1.0   \n",
       "165032  30.0       7  161533.00              1        0.0             1.0   \n",
       "165033  31.0       1       0.00              1        1.0             0.0   \n",
       "\n",
       "        EstimatedSalary  Exited  \n",
       "0             181449.97       0  \n",
       "1              49503.50       0  \n",
       "2             184866.69       0  \n",
       "3              84560.88       0  \n",
       "4              15068.83       0  \n",
       "...                 ...     ...  \n",
       "165029        131834.75       0  \n",
       "165030        131834.45       0  \n",
       "165031        127429.56       0  \n",
       "165032         71173.03       0  \n",
       "165033         61581.79       1  \n",
       "\n",
       "[165034 rows x 14 columns]"
      ]
     },
     "execution_count": 3,
     "metadata": {},
     "output_type": "execute_result"
    }
   ],
   "source": [
    "bankdata"
   ]
  },
  {
   "cell_type": "code",
   "execution_count": 4,
   "id": "257ed0d5-be49-4887-bb8f-b2a904f4765f",
   "metadata": {},
   "outputs": [
    {
     "data": {
      "text/plain": [
       "Index(['id', 'CustomerId', 'Surname', 'CreditScore', 'Geography', 'Gender',\n",
       "       'Age', 'Tenure', 'Balance', 'NumOfProducts', 'HasCrCard',\n",
       "       'IsActiveMember', 'EstimatedSalary', 'Exited'],\n",
       "      dtype='object')"
      ]
     },
     "execution_count": 4,
     "metadata": {},
     "output_type": "execute_result"
    }
   ],
   "source": [
    "bankdata.columns"
   ]
  },
  {
   "cell_type": "code",
   "execution_count": 5,
   "id": "3069569c-2321-48e7-82a8-e35db1a13935",
   "metadata": {
    "scrolled": true
   },
   "outputs": [
    {
     "data": {
      "text/html": [
       "<div>\n",
       "<style scoped>\n",
       "    .dataframe tbody tr th:only-of-type {\n",
       "        vertical-align: middle;\n",
       "    }\n",
       "\n",
       "    .dataframe tbody tr th {\n",
       "        vertical-align: top;\n",
       "    }\n",
       "\n",
       "    .dataframe thead th {\n",
       "        text-align: right;\n",
       "    }\n",
       "</style>\n",
       "<table border=\"1\" class=\"dataframe\">\n",
       "  <thead>\n",
       "    <tr style=\"text-align: right;\">\n",
       "      <th></th>\n",
       "      <th>id</th>\n",
       "      <th>CustomerId</th>\n",
       "      <th>CreditScore</th>\n",
       "      <th>Age</th>\n",
       "      <th>Tenure</th>\n",
       "      <th>Balance</th>\n",
       "      <th>NumOfProducts</th>\n",
       "      <th>HasCrCard</th>\n",
       "      <th>IsActiveMember</th>\n",
       "      <th>EstimatedSalary</th>\n",
       "      <th>Exited</th>\n",
       "    </tr>\n",
       "  </thead>\n",
       "  <tbody>\n",
       "    <tr>\n",
       "      <th>id</th>\n",
       "      <td>1.000000</td>\n",
       "      <td>-0.000387</td>\n",
       "      <td>-0.001201</td>\n",
       "      <td>0.004039</td>\n",
       "      <td>-0.002560</td>\n",
       "      <td>0.000606</td>\n",
       "      <td>-0.000094</td>\n",
       "      <td>-0.004706</td>\n",
       "      <td>0.000418</td>\n",
       "      <td>-0.001552</td>\n",
       "      <td>0.002512</td>\n",
       "    </tr>\n",
       "    <tr>\n",
       "      <th>CustomerId</th>\n",
       "      <td>-0.000387</td>\n",
       "      <td>1.000000</td>\n",
       "      <td>0.007364</td>\n",
       "      <td>0.002696</td>\n",
       "      <td>-0.001252</td>\n",
       "      <td>-0.008348</td>\n",
       "      <td>0.004380</td>\n",
       "      <td>-0.005469</td>\n",
       "      <td>-0.002934</td>\n",
       "      <td>0.002891</td>\n",
       "      <td>-0.009947</td>\n",
       "    </tr>\n",
       "    <tr>\n",
       "      <th>CreditScore</th>\n",
       "      <td>-0.001201</td>\n",
       "      <td>0.007364</td>\n",
       "      <td>1.000000</td>\n",
       "      <td>-0.008918</td>\n",
       "      <td>0.000942</td>\n",
       "      <td>0.006973</td>\n",
       "      <td>0.011361</td>\n",
       "      <td>-0.002828</td>\n",
       "      <td>0.014790</td>\n",
       "      <td>-0.001820</td>\n",
       "      <td>-0.027383</td>\n",
       "    </tr>\n",
       "    <tr>\n",
       "      <th>Age</th>\n",
       "      <td>0.004039</td>\n",
       "      <td>0.002696</td>\n",
       "      <td>-0.008918</td>\n",
       "      <td>1.000000</td>\n",
       "      <td>-0.010830</td>\n",
       "      <td>0.064318</td>\n",
       "      <td>-0.102195</td>\n",
       "      <td>-0.012111</td>\n",
       "      <td>0.003320</td>\n",
       "      <td>-0.005399</td>\n",
       "      <td>0.340768</td>\n",
       "    </tr>\n",
       "    <tr>\n",
       "      <th>Tenure</th>\n",
       "      <td>-0.002560</td>\n",
       "      <td>-0.001252</td>\n",
       "      <td>0.000942</td>\n",
       "      <td>-0.010830</td>\n",
       "      <td>1.000000</td>\n",
       "      <td>-0.009481</td>\n",
       "      <td>0.007335</td>\n",
       "      <td>0.005327</td>\n",
       "      <td>-0.005532</td>\n",
       "      <td>0.000971</td>\n",
       "      <td>-0.019565</td>\n",
       "    </tr>\n",
       "    <tr>\n",
       "      <th>Balance</th>\n",
       "      <td>0.000606</td>\n",
       "      <td>-0.008348</td>\n",
       "      <td>0.006973</td>\n",
       "      <td>0.064318</td>\n",
       "      <td>-0.009481</td>\n",
       "      <td>1.000000</td>\n",
       "      <td>-0.361033</td>\n",
       "      <td>-0.018584</td>\n",
       "      <td>-0.015073</td>\n",
       "      <td>0.008586</td>\n",
       "      <td>0.129743</td>\n",
       "    </tr>\n",
       "    <tr>\n",
       "      <th>NumOfProducts</th>\n",
       "      <td>-0.000094</td>\n",
       "      <td>0.004380</td>\n",
       "      <td>0.011361</td>\n",
       "      <td>-0.102195</td>\n",
       "      <td>0.007335</td>\n",
       "      <td>-0.361033</td>\n",
       "      <td>1.000000</td>\n",
       "      <td>0.005482</td>\n",
       "      <td>0.039736</td>\n",
       "      <td>-0.004285</td>\n",
       "      <td>-0.214554</td>\n",
       "    </tr>\n",
       "    <tr>\n",
       "      <th>HasCrCard</th>\n",
       "      <td>-0.004706</td>\n",
       "      <td>-0.005469</td>\n",
       "      <td>-0.002828</td>\n",
       "      <td>-0.012111</td>\n",
       "      <td>0.005327</td>\n",
       "      <td>-0.018584</td>\n",
       "      <td>0.005482</td>\n",
       "      <td>1.000000</td>\n",
       "      <td>-0.021034</td>\n",
       "      <td>0.004438</td>\n",
       "      <td>-0.022141</td>\n",
       "    </tr>\n",
       "    <tr>\n",
       "      <th>IsActiveMember</th>\n",
       "      <td>0.000418</td>\n",
       "      <td>-0.002934</td>\n",
       "      <td>0.014790</td>\n",
       "      <td>0.003320</td>\n",
       "      <td>-0.005532</td>\n",
       "      <td>-0.015073</td>\n",
       "      <td>0.039736</td>\n",
       "      <td>-0.021034</td>\n",
       "      <td>1.000000</td>\n",
       "      <td>-0.008080</td>\n",
       "      <td>-0.210237</td>\n",
       "    </tr>\n",
       "    <tr>\n",
       "      <th>EstimatedSalary</th>\n",
       "      <td>-0.001552</td>\n",
       "      <td>0.002891</td>\n",
       "      <td>-0.001820</td>\n",
       "      <td>-0.005399</td>\n",
       "      <td>0.000971</td>\n",
       "      <td>0.008586</td>\n",
       "      <td>-0.004285</td>\n",
       "      <td>0.004438</td>\n",
       "      <td>-0.008080</td>\n",
       "      <td>1.000000</td>\n",
       "      <td>0.018827</td>\n",
       "    </tr>\n",
       "    <tr>\n",
       "      <th>Exited</th>\n",
       "      <td>0.002512</td>\n",
       "      <td>-0.009947</td>\n",
       "      <td>-0.027383</td>\n",
       "      <td>0.340768</td>\n",
       "      <td>-0.019565</td>\n",
       "      <td>0.129743</td>\n",
       "      <td>-0.214554</td>\n",
       "      <td>-0.022141</td>\n",
       "      <td>-0.210237</td>\n",
       "      <td>0.018827</td>\n",
       "      <td>1.000000</td>\n",
       "    </tr>\n",
       "  </tbody>\n",
       "</table>\n",
       "</div>"
      ],
      "text/plain": [
       "                       id  CustomerId  CreditScore       Age    Tenure  \\\n",
       "id               1.000000   -0.000387    -0.001201  0.004039 -0.002560   \n",
       "CustomerId      -0.000387    1.000000     0.007364  0.002696 -0.001252   \n",
       "CreditScore     -0.001201    0.007364     1.000000 -0.008918  0.000942   \n",
       "Age              0.004039    0.002696    -0.008918  1.000000 -0.010830   \n",
       "Tenure          -0.002560   -0.001252     0.000942 -0.010830  1.000000   \n",
       "Balance          0.000606   -0.008348     0.006973  0.064318 -0.009481   \n",
       "NumOfProducts   -0.000094    0.004380     0.011361 -0.102195  0.007335   \n",
       "HasCrCard       -0.004706   -0.005469    -0.002828 -0.012111  0.005327   \n",
       "IsActiveMember   0.000418   -0.002934     0.014790  0.003320 -0.005532   \n",
       "EstimatedSalary -0.001552    0.002891    -0.001820 -0.005399  0.000971   \n",
       "Exited           0.002512   -0.009947    -0.027383  0.340768 -0.019565   \n",
       "\n",
       "                  Balance  NumOfProducts  HasCrCard  IsActiveMember  \\\n",
       "id               0.000606      -0.000094  -0.004706        0.000418   \n",
       "CustomerId      -0.008348       0.004380  -0.005469       -0.002934   \n",
       "CreditScore      0.006973       0.011361  -0.002828        0.014790   \n",
       "Age              0.064318      -0.102195  -0.012111        0.003320   \n",
       "Tenure          -0.009481       0.007335   0.005327       -0.005532   \n",
       "Balance          1.000000      -0.361033  -0.018584       -0.015073   \n",
       "NumOfProducts   -0.361033       1.000000   0.005482        0.039736   \n",
       "HasCrCard       -0.018584       0.005482   1.000000       -0.021034   \n",
       "IsActiveMember  -0.015073       0.039736  -0.021034        1.000000   \n",
       "EstimatedSalary  0.008586      -0.004285   0.004438       -0.008080   \n",
       "Exited           0.129743      -0.214554  -0.022141       -0.210237   \n",
       "\n",
       "                 EstimatedSalary    Exited  \n",
       "id                     -0.001552  0.002512  \n",
       "CustomerId              0.002891 -0.009947  \n",
       "CreditScore            -0.001820 -0.027383  \n",
       "Age                    -0.005399  0.340768  \n",
       "Tenure                  0.000971 -0.019565  \n",
       "Balance                 0.008586  0.129743  \n",
       "NumOfProducts          -0.004285 -0.214554  \n",
       "HasCrCard               0.004438 -0.022141  \n",
       "IsActiveMember         -0.008080 -0.210237  \n",
       "EstimatedSalary         1.000000  0.018827  \n",
       "Exited                  0.018827  1.000000  "
      ]
     },
     "execution_count": 5,
     "metadata": {},
     "output_type": "execute_result"
    }
   ],
   "source": [
    "bankdata_nums = bankdata.drop(['Surname', 'Geography', 'Gender'], axis=1)\n",
    "\n",
    "bankdata_nums.corr()"
   ]
  },
  {
   "cell_type": "code",
   "execution_count": 6,
   "id": "08eaefb9",
   "metadata": {},
   "outputs": [
    {
     "name": "stdout",
     "output_type": "stream",
     "text": [
      "                 Generalized Linear Model Regression Results                  \n",
      "==============================================================================\n",
      "Dep. Variable:                 Exited   No. Observations:               165034\n",
      "Model:                            GLM   Df Residuals:                   165025\n",
      "Model Family:                Binomial   Df Model:                            8\n",
      "Link Function:                  Logit   Scale:                          1.0000\n",
      "Method:                          IRLS   Log-Likelihood:                -68409.\n",
      "Date:                Sat, 14 Sep 2024   Deviance:                   1.3682e+05\n",
      "Time:                        20:46:35   Pearson chi2:                 1.82e+05\n",
      "No. Iterations:                     6   Pseudo R-squ. (CS):             0.1838\n",
      "Covariance Type:            nonrobust                                         \n",
      "==================================================================================\n",
      "                     coef    std err          z      P>|z|      [0.025      0.975]\n",
      "----------------------------------------------------------------------------------\n",
      "intercept         -2.9404      0.077    -38.308      0.000      -3.091      -2.790\n",
      "CreditScore       -0.0008   8.45e-05     -9.074      0.000      -0.001      -0.001\n",
      "Age                0.0976      0.001     90.112      0.000       0.096       0.100\n",
      "Tenure            -0.0164      0.002     -6.777      0.000      -0.021      -0.012\n",
      "Balance         3.395e-06   5.05e-07      6.728      0.000    2.41e-06    4.38e-06\n",
      "NumOfProducts     -0.8184      0.014    -60.322      0.000      -0.845      -0.792\n",
      "HasCrCard         -0.1501      0.016     -9.656      0.000      -0.181      -0.120\n",
      "IsActiveMember    -1.2957      0.015    -88.383      0.000      -1.324      -1.267\n",
      "Age:Balance    -2.131e-08   1.19e-08     -1.792      0.073   -4.46e-08       2e-09\n",
      "==================================================================================\n"
     ]
    }
   ],
   "source": [
    "predictors = list(bankdata.columns.drop(['Surname', 'Geography', 'Gender', 'CustomerId','id','Exited','EstimatedSalary']))\n",
    "\n",
    "interaction_terms = [('Age', 'Balance')]      \n",
    "\n",
    "final = predictors + interaction_terms\n",
    "\n",
    "X = MS(final).fit_transform(bankdata)\n",
    "Y = bankdata['Exited']\n",
    "\n",
    "glm = sm.GLM(Y, X, family=sm.families.Binomial())\n",
    "\n",
    "results = glm.fit()\n",
    "\n",
    "print(results.summary())"
   ]
  },
  {
   "cell_type": "code",
   "execution_count": 7,
   "id": "8fdeccf8",
   "metadata": {},
   "outputs": [
    {
     "data": {
      "text/plain": [
       "intercept         0.000000e+00\n",
       "CreditScore       1.144049e-19\n",
       "Age               0.000000e+00\n",
       "Tenure            1.223663e-11\n",
       "Balance           1.717913e-11\n",
       "NumOfProducts     0.000000e+00\n",
       "HasCrCard         4.638844e-22\n",
       "IsActiveMember    0.000000e+00\n",
       "Age:Balance       7.320883e-02\n",
       "dtype: float64"
      ]
     },
     "execution_count": 7,
     "metadata": {},
     "output_type": "execute_result"
    }
   ],
   "source": [
    "results.pvalues"
   ]
  },
  {
   "cell_type": "code",
   "execution_count": 8,
   "id": "a75b8e10",
   "metadata": {},
   "outputs": [
    {
     "name": "stdout",
     "output_type": "stream",
     "text": [
      "['France' 'Spain' 'Germany']\n",
      "            id  CustomerId         Surname  CreditScore   Age  Tenure  \\\n",
      "0            0    15674932  Okwudilichukwu          668  33.0       3   \n",
      "1            1    15749177   Okwudiliolisa          627  33.0       1   \n",
      "2            2    15694510           Hsueh          678  40.0      10   \n",
      "3            3    15741417             Kao          581  34.0       2   \n",
      "4            4    15766172       Chiemenam          716  33.0       5   \n",
      "...        ...         ...             ...          ...   ...     ...   \n",
      "165029  165029    15667085            Meng          667  33.0       2   \n",
      "165030  165030    15665521       Okechukwu          792  35.0       3   \n",
      "165031  165031    15664752            Hsia          565  31.0       5   \n",
      "165032  165032    15689614          Hsiung          554  30.0       7   \n",
      "165033  165033    15732798         Ulyanov          850  31.0       1   \n",
      "\n",
      "          Balance  NumOfProducts  HasCrCard  IsActiveMember  EstimatedSalary  \\\n",
      "0            0.00              2        1.0             0.0        181449.97   \n",
      "1            0.00              2        1.0             1.0         49503.50   \n",
      "2            0.00              2        1.0             0.0        184866.69   \n",
      "3       148882.54              1        1.0             1.0         84560.88   \n",
      "4            0.00              2        1.0             1.0         15068.83   \n",
      "...           ...            ...        ...             ...              ...   \n",
      "165029       0.00              1        1.0             1.0        131834.75   \n",
      "165030       0.00              1        0.0             0.0        131834.45   \n",
      "165031       0.00              1        1.0             1.0        127429.56   \n",
      "165032  161533.00              1        0.0             1.0         71173.03   \n",
      "165033       0.00              1        1.0             0.0         61581.79   \n",
      "\n",
      "        Exited  Geography_France  Geography_Germany  Geography_Spain  \\\n",
      "0            0               1.0                0.0              0.0   \n",
      "1            0               1.0                0.0              0.0   \n",
      "2            0               1.0                0.0              0.0   \n",
      "3            0               1.0                0.0              0.0   \n",
      "4            0               0.0                0.0              1.0   \n",
      "...        ...               ...                ...              ...   \n",
      "165029       0               0.0                0.0              1.0   \n",
      "165030       0               1.0                0.0              0.0   \n",
      "165031       0               1.0                0.0              0.0   \n",
      "165032       0               0.0                0.0              1.0   \n",
      "165033       1               1.0                0.0              0.0   \n",
      "\n",
      "        Gender_Female  Gender_Male  \n",
      "0                 0.0          1.0  \n",
      "1                 0.0          1.0  \n",
      "2                 0.0          1.0  \n",
      "3                 0.0          1.0  \n",
      "4                 0.0          1.0  \n",
      "...               ...          ...  \n",
      "165029            1.0          0.0  \n",
      "165030            0.0          1.0  \n",
      "165031            0.0          1.0  \n",
      "165032            1.0          0.0  \n",
      "165033            0.0          1.0  \n",
      "\n",
      "[165034 rows x 17 columns]\n"
     ]
    }
   ],
   "source": [
    "print(bankdata['Geography'].unique())\n",
    "\n",
    "bankdata_ohe = pd.get_dummies(bankdata, columns = ['Geography', 'Gender'], dtype = float)\n",
    "print(bankdata_ohe)"
   ]
  },
  {
   "cell_type": "markdown",
   "id": "eb023570",
   "metadata": {},
   "source": []
  },
  {
   "cell_type": "code",
   "execution_count": 9,
   "id": "a266637e",
   "metadata": {
    "scrolled": true
   },
   "outputs": [
    {
     "name": "stdout",
     "output_type": "stream",
     "text": [
      "Lasso Coefficients: [[ 0.09405471 -0.01538024 -0.85572588 -0.15613781 -1.28623303 -1.85480477\n",
      "  -0.85951219 -1.82880486 -0.67154036]]\n",
      "Lasso intercept: [-1.15403389]\n"
     ]
    }
   ],
   "source": [
    "#Same thing as last logistic reg WIHTOUT USING ISLP LIBRARY\n",
    "\n",
    "\n",
    "predictors = list(bankdata_ohe.columns.drop(['Surname', 'CustomerId','id','Exited','EstimatedSalary', 'Balance', 'CreditScore', 'Gender_Female']))\n",
    "\n",
    "#bankdata_ohe['Age_Balance'] = bankdata_ohe['Age'] * bankdata_ohe['Balance']\n",
    "\n",
    "\n",
    "X = bankdata_ohe[predictors]\n",
    "Y = bankdata_ohe['Exited']\n",
    "\n",
    "lasso_logreg = LogisticRegression(penalty='l1', solver='liblinear', C=1.0, random_state=42)  # C controls regularization strength\n",
    "lasso_logreg.fit(X, Y)\n",
    "\n",
    "print(\"Lasso Coefficients:\", lasso_logreg.coef_)\n",
    "print('Lasso intercept:', lasso_logreg.intercept_)"
   ]
  },
  {
   "cell_type": "code",
   "execution_count": 10,
   "id": "75b8481d",
   "metadata": {},
   "outputs": [
    {
     "name": "stdout",
     "output_type": "stream",
     "text": [
      "                 Generalized Linear Model Regression Results                  \n",
      "==============================================================================\n",
      "Dep. Variable:                 Exited   No. Observations:               165034\n",
      "Model:                            GLM   Df Residuals:                   165025\n",
      "Model Family:                Binomial   Df Model:                            8\n",
      "Link Function:                  Logit   Scale:                          1.0000\n",
      "Method:                          IRLS   Log-Likelihood:                -65432.\n",
      "Date:                Sat, 14 Sep 2024   Deviance:                   1.3086e+05\n",
      "Time:                        20:46:36   Pearson chi2:                 1.85e+05\n",
      "No. Iterations:                     6   Pseudo R-squ. (CS):             0.2127\n",
      "Covariance Type:            nonrobust                                         \n",
      "=====================================================================================\n",
      "                        coef    std err          z      P>|z|      [0.025      0.975]\n",
      "-------------------------------------------------------------------------------------\n",
      "Age                   0.0942      0.001    119.692      0.000       0.093       0.096\n",
      "Tenure               -0.0153      0.002     -6.179      0.000      -0.020      -0.010\n",
      "NumOfProducts        -0.8550      0.013    -65.553      0.000      -0.881      -0.829\n",
      "HasCrCard            -0.1558      0.016     -9.778      0.000      -0.187      -0.125\n",
      "IsActiveMember       -1.2869      0.015    -85.949      0.000      -1.316      -1.258\n",
      "Geography_France     -3.0171      0.042    -71.536      0.000      -3.100      -2.934\n",
      "Geography_Germany    -2.0218      0.042    -47.618      0.000      -2.105      -1.939\n",
      "Geography_Spain      -2.9913      0.044    -67.940      0.000      -3.078      -2.905\n",
      "Gender_Male          -0.6716      0.014    -48.089      0.000      -0.699      -0.644\n",
      "=====================================================================================\n"
     ]
    }
   ],
   "source": [
    "glm = sm.GLM(Y, X, family=sm.families.Binomial())\n",
    "\n",
    "results = glm.fit()\n",
    "\n",
    "print(results.summary())"
   ]
  },
  {
   "cell_type": "code",
   "execution_count": 11,
   "id": "663f5198",
   "metadata": {
    "scrolled": false
   },
   "outputs": [
    {
     "name": "stdout",
     "output_type": "stream",
     "text": [
      "AUC Score: 0.818\n"
     ]
    },
    {
     "data": {
      "image/png": "[encoded data removed]",
      "text/plain": [
       "<Figure size 640x480 with 1 Axes>"
      ]
     },
     "metadata": {},
     "output_type": "display_data"
    }
   ],
   "source": [
    "y_prob = lasso_logreg.predict_proba(X)[:, 1] \n",
    "\n",
    "auc_score = roc_auc_score(Y, y_prob)\n",
    "print(f\"AUC Score: {auc_score:.3f}\")\n",
    "\n",
    "fpr, tpr, thresholds = roc_curve(Y, y_prob)\n",
    "plt.plot(fpr, tpr, label=f'ROC curve (AUC = {auc_score:.2f})')\n",
    "plt.xlabel('False Positive Rate')\n",
    "plt.ylabel('True Positive Rate')\n",
    "plt.title('Receiver Operating Characteristic (ROC) Curve')\n",
    "plt.legend(loc=\"lower right\")\n",
    "plt.show()"
   ]
  },
  {
   "cell_type": "code",
   "execution_count": 12,
   "id": "182fd9b3",
   "metadata": {},
   "outputs": [
    {
     "name": "stdout",
     "output_type": "stream",
     "text": [
      "Cross-validated AUC: 0.817\n"
     ]
    }
   ],
   "source": [
    "cv_auc = cross_val_score(lasso_logreg, X, Y, cv=5, scoring='roc_auc')\n",
    "\n",
    "print(f\"Cross-validated AUC: {cv_auc.mean():.3f}\")"
   ]
  },
  {
   "cell_type": "markdown",
   "id": "537a3aea",
   "metadata": {},
   "source": [
    "# Test time"
   ]
  },
  {
   "cell_type": "code",
   "execution_count": 13,
   "id": "938d26f4",
   "metadata": {},
   "outputs": [
    {
     "name": "stdout",
     "output_type": "stream",
     "text": [
      "            id  CustomerId    Surname  CreditScore   Age  Tenure    Balance  \\\n",
      "0       165034    15773898   Lucchese          586  23.0       2       0.00   \n",
      "1       165035    15782418       Nott          683  46.0       2       0.00   \n",
      "2       165036    15807120         K?          656  34.0       7       0.00   \n",
      "3       165037    15808905  O'Donnell          681  36.0       8       0.00   \n",
      "4       165038    15607314    Higgins          752  38.0      10  121263.62   \n",
      "...        ...         ...        ...          ...   ...     ...        ...   \n",
      "110018  275052    15662091      P'eng          570  29.0       7  116099.82   \n",
      "110019  275053    15774133        Cox          575  36.0       4  178032.53   \n",
      "110020  275054    15728456      Ch'iu          712  31.0       2       0.00   \n",
      "110021  275055    15687541   Yegorova          709  32.0       3       0.00   \n",
      "110022  275056    15663942       Tuan          621  37.0       7   87848.39   \n",
      "\n",
      "        NumOfProducts  HasCrCard  IsActiveMember  EstimatedSalary  \\\n",
      "0                   2        0.0             1.0        160976.75   \n",
      "1                   1        1.0             0.0         72549.27   \n",
      "2                   2        1.0             0.0        138882.09   \n",
      "3                   1        1.0             0.0        113931.57   \n",
      "4                   1        1.0             0.0        139431.00   \n",
      "...               ...        ...             ...              ...   \n",
      "110018              1        1.0             1.0        148087.62   \n",
      "110019              1        1.0             1.0         42181.68   \n",
      "110020              2        1.0             0.0         16287.38   \n",
      "110021              1        1.0             1.0        158816.58   \n",
      "110022              1        1.0             0.0         24210.56   \n",
      "\n",
      "        Geography_France  Geography_Germany  Geography_Spain  Gender_Female  \\\n",
      "0                    1.0                0.0              0.0            1.0   \n",
      "1                    1.0                0.0              0.0            1.0   \n",
      "2                    1.0                0.0              0.0            1.0   \n",
      "3                    1.0                0.0              0.0            0.0   \n",
      "4                    0.0                1.0              0.0            0.0   \n",
      "...                  ...                ...              ...            ...   \n",
      "110018               0.0                0.0              1.0            0.0   \n",
      "110019               1.0                0.0              0.0            1.0   \n",
      "110020               1.0                0.0              0.0            0.0   \n",
      "110021               1.0                0.0              0.0            1.0   \n",
      "110022               1.0                0.0              0.0            1.0   \n",
      "\n",
      "        Gender_Male  \n",
      "0               0.0  \n",
      "1               0.0  \n",
      "2               0.0  \n",
      "3               1.0  \n",
      "4               1.0  \n",
      "...             ...  \n",
      "110018          1.0  \n",
      "110019          0.0  \n",
      "110020          1.0  \n",
      "110021          0.0  \n",
      "110022          0.0  \n",
      "\n",
      "[110023 rows x 16 columns]\n",
      "Predicted Probabilities: [0.02035177 0.56833321 0.1435356  ... 0.06519026 0.08759778 0.34336378]\n"
     ]
    }
   ],
   "source": [
    "os.chdir(\"/home/ishanth/kaggle_churn\")\n",
    "bankdata_test = pd.read_csv(\"test.csv\")\n",
    "\n",
    "bankdata_ohe_test = pd.get_dummies(bankdata_test, columns = ['Geography', 'Gender'], dtype = float)\n",
    "print(bankdata_ohe_test)\n",
    "\n",
    "\n",
    "predictors_test = list(bankdata_ohe_test.columns.drop(['Surname', 'CustomerId','id','EstimatedSalary', 'Balance', 'CreditScore', 'Gender_Female']))\n",
    "\n",
    "X_test = bankdata_ohe_test[predictors_test]\n",
    "\n",
    "Y_test_pred = lasso_logreg.predict(X_test)\n",
    "Y_test_prob = lasso_logreg.predict_proba(X_test)[:, 1] \n",
    "\n",
    "print(f\"Predicted Probabilities: {Y_test_prob}\")"
   ]
  },
  {
   "cell_type": "code",
   "execution_count": 14,
   "id": "62d2cb7e",
   "metadata": {},
   "outputs": [
    {
     "data": {
      "text/plain": [
       "0              0\n",
       "1              1\n",
       "2              2\n",
       "3              3\n",
       "4              4\n",
       "           ...  \n",
       "165029    165029\n",
       "165030    165030\n",
       "165031    165031\n",
       "165032    165032\n",
       "165033    165033\n",
       "Name: id, Length: 165034, dtype: int64"
      ]
     },
     "execution_count": 14,
     "metadata": {},
     "output_type": "execute_result"
    }
   ],
   "source": [
    "bankdata['id']"
   ]
  },
  {
   "cell_type": "code",
   "execution_count": 15,
   "id": "9223405a",
   "metadata": {},
   "outputs": [
    {
     "data": {
      "text/plain": [
       "array([0.02035177, 0.56833321, 0.1435356 , ..., 0.06519026, 0.08759778,\n",
       "       0.34336378])"
      ]
     },
     "execution_count": 15,
     "metadata": {},
     "output_type": "execute_result"
    }
   ],
   "source": [
    "Y_test_prob"
   ]
  },
  {
   "cell_type": "code",
   "execution_count": 16,
   "id": "1ac3ccca",
   "metadata": {},
   "outputs": [
    {
     "data": {
      "text/plain": [
       "(110023,)"
      ]
     },
     "execution_count": 16,
     "metadata": {},
     "output_type": "execute_result"
    }
   ],
   "source": [
    "np.shape(Y_test_prob)"
   ]
  },
  {
   "cell_type": "code",
   "execution_count": 17,
   "id": "95a0c0b0",
   "metadata": {},
   "outputs": [
    {
     "data": {
      "text/plain": [
       "(110023, 13)"
      ]
     },
     "execution_count": 17,
     "metadata": {},
     "output_type": "execute_result"
    }
   ],
   "source": [
    "np.shape(bankdata_test)"
   ]
  },
  {
   "cell_type": "code",
   "execution_count": 18,
   "id": "97205469",
   "metadata": {},
   "outputs": [
    {
     "data": {
      "text/plain": [
       "(165034, 14)"
      ]
     },
     "execution_count": 18,
     "metadata": {},
     "output_type": "execute_result"
    }
   ],
   "source": [
    "np.shape(bankdata)"
   ]
  },
  {
   "cell_type": "code",
   "execution_count": 19,
   "id": "59346990",
   "metadata": {},
   "outputs": [],
   "source": [
    "final_exited = []\n",
    "for idx, i in enumerate(bankdata_test['id']):\n",
    "    final_exited.append([i, round(Y_test_prob[idx], 4)])\n",
    "final_exited_df = pd.DataFrame(final_exited, columns=['id', 'Exited'])"
   ]
  },
  {
   "cell_type": "code",
   "execution_count": 22,
   "id": "7b1907e5",
   "metadata": {},
   "outputs": [],
   "source": [
    "final_exited_df.to_csv('final_exited.csv')"
   ]
  },
  {
   "cell_type": "code",
   "execution_count": null,
   "id": "51e338d8",
   "metadata": {},
   "outputs": [],
   "source": []
  }
 ],
 "metadata": {
  "kernelspec": {
   "display_name": "Python 3 (ipykernel)",
   "language": "python",
   "name": "python3"
  },
  "language_info": {
   "codemirror_mode": {
    "name": "ipython",
    "version": 3
   },
   "file_extension": ".py",
   "mimetype": "text/x-python",
   "name": "python",
   "nbconvert_exporter": "python",
   "pygments_lexer": "ipython3",
   "version": "3.11.5"
  }
 },
 "nbformat": 4,
 "nbformat_minor": 5
}
